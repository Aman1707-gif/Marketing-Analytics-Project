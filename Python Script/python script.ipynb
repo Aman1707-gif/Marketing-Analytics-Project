{
 "cells": [
  {
   "cell_type": "code",
   "execution_count": 3,
   "metadata": {},
   "outputs": [
    {
     "name": "stdout",
     "output_type": "stream",
     "text": [
      "Defaulting to user installation because normal site-packages is not writeable\n",
      "Collecting nltk\n",
      "  Downloading nltk-3.9.1-py3-none-any.whl.metadata (2.9 kB)\n",
      "Collecting click (from nltk)\n",
      "  Downloading click-8.1.7-py3-none-any.whl.metadata (3.0 kB)\n",
      "Collecting joblib (from nltk)\n",
      "  Downloading joblib-1.4.2-py3-none-any.whl.metadata (5.4 kB)\n",
      "Collecting regex>=2021.8.3 (from nltk)\n",
      "  Downloading regex-2024.11.6-cp312-cp312-win_amd64.whl.metadata (41 kB)\n",
      "Requirement already satisfied: tqdm in c:\\users\\hp\\appdata\\roaming\\python\\python312\\site-packages (from nltk) (4.66.5)\n",
      "Requirement already satisfied: colorama in c:\\users\\hp\\appdata\\roaming\\python\\python312\\site-packages (from click->nltk) (0.4.6)\n",
      "Downloading nltk-3.9.1-py3-none-any.whl (1.5 MB)\n",
      "   ---------------------------------------- 0.0/1.5 MB ? eta -:--:--\n",
      "   -------------------- ------------------- 0.8/1.5 MB 4.8 MB/s eta 0:00:01\n",
      "   ---------------------------------------- 1.5/1.5 MB 3.6 MB/s eta 0:00:00\n",
      "Downloading regex-2024.11.6-cp312-cp312-win_amd64.whl (273 kB)\n",
      "Downloading click-8.1.7-py3-none-any.whl (97 kB)\n",
      "Downloading joblib-1.4.2-py3-none-any.whl (301 kB)\n",
      "Installing collected packages: regex, joblib, click, nltk\n",
      "Successfully installed click-8.1.7 joblib-1.4.2 nltk-3.9.1 regex-2024.11.6\n",
      "Note: you may need to restart the kernel to use updated packages.\n"
     ]
    },
    {
     "name": "stderr",
     "output_type": "stream",
     "text": [
      "\n",
      "[notice] A new release of pip is available: 24.2 -> 24.3.1\n",
      "[notice] To update, run: python.exe -m pip install --upgrade pip\n"
     ]
    }
   ],
   "source": [
    "pip install nltk "
   ]
  },
  {
   "cell_type": "code",
   "execution_count": 2,
   "metadata": {},
   "outputs": [
    {
     "name": "stdout",
     "output_type": "stream",
     "text": [
      "Defaulting to user installation because normal site-packages is not writeable\n",
      "Collecting pyodbc\n",
      "  Downloading pyodbc-5.2.0-cp312-cp312-win_amd64.whl.metadata (2.8 kB)\n",
      "Downloading pyodbc-5.2.0-cp312-cp312-win_amd64.whl (69 kB)\n",
      "Installing collected packages: pyodbc\n",
      "Successfully installed pyodbc-5.2.0\n",
      "Note: you may need to restart the kernel to use updated packages.\n"
     ]
    },
    {
     "name": "stderr",
     "output_type": "stream",
     "text": [
      "\n",
      "[notice] A new release of pip is available: 24.2 -> 24.3.1\n",
      "[notice] To update, run: python.exe -m pip install --upgrade pip\n"
     ]
    }
   ],
   "source": [
    "pip install pyodbc"
   ]
  },
  {
   "cell_type": "code",
   "execution_count": 5,
   "metadata": {},
   "outputs": [
    {
     "name": "stdout",
     "output_type": "stream",
     "text": [
      "Defaulting to user installation because normal site-packages is not writeableNote: you may need to restart the kernel to use updated packages.\n"
     ]
    },
    {
     "name": "stderr",
     "output_type": "stream",
     "text": [
      "\n",
      "[notice] A new release of pip is available: 24.2 -> 24.3.1\n",
      "[notice] To update, run: python.exe -m pip install --upgrade pip\n"
     ]
    },
    {
     "name": "stdout",
     "output_type": "stream",
     "text": [
      "\n",
      "Requirement already satisfied: SQLAlchemy in c:\\users\\hp\\appdata\\roaming\\python\\python312\\site-packages (2.0.36)\n",
      "Requirement already satisfied: typing-extensions>=4.6.0 in c:\\users\\hp\\appdata\\roaming\\python\\python312\\site-packages (from SQLAlchemy) (4.12.2)\n",
      "Requirement already satisfied: greenlet!=0.4.17 in c:\\users\\hp\\appdata\\roaming\\python\\python312\\site-packages (from SQLAlchemy) (3.1.1)\n"
     ]
    }
   ],
   "source": [
    "pip install SQLAlchemy\n"
   ]
  },
  {
   "cell_type": "code",
   "execution_count": 7,
   "metadata": {},
   "outputs": [
    {
     "name": "stderr",
     "output_type": "stream",
     "text": [
      "<>:15: SyntaxWarning: invalid escape sequence '\\S'\n",
      "<>:15: SyntaxWarning: invalid escape sequence '\\S'\n",
      "C:\\Users\\HP\\AppData\\Local\\Temp\\ipykernel_10736\\400610374.py:15: SyntaxWarning: invalid escape sequence '\\S'\n",
      "  \"Server=DESKTOP-JNEF5AJ\\SQLEXPRESS;\"  # Specify your SQL Server instance\n",
      "[nltk_data] Downloading package vader_lexicon to\n",
      "[nltk_data]     C:\\Users\\HP\\AppData\\Roaming\\nltk_data...\n",
      "[nltk_data]   Package vader_lexicon is already up-to-date!\n",
      "C:\\Users\\HP\\AppData\\Local\\Temp\\ipykernel_10736\\400610374.py:26: UserWarning: pandas only supports SQLAlchemy connectable (engine/connection) or database string URI or sqlite3 DBAPI2 connection. Other DBAPI2 objects are not tested. Please consider using SQLAlchemy.\n",
      "  df = pd.read_sql(query, conn)\n"
     ]
    },
    {
     "name": "stdout",
     "output_type": "stream",
     "text": [
      "   ReviewID  CustomerID  ProductID  ReviewDate  Rating  \\\n",
      "0         1          77         18  2023-12-23       3   \n",
      "1         2          80         19  2024-12-25       5   \n",
      "2         3          50         13  2025-01-26       4   \n",
      "3         4          78         15  2025-04-21       3   \n",
      "4         5          64          2  2023-07-16       3   \n",
      "\n",
      "                                 ReviewText  SentimentScore SentimentCategory  \\\n",
      "0   Average  experience,  nothing  special.         -0.3089    Mixed Negative   \n",
      "1            The  quality  is    top-notch.          0.0000          Positive   \n",
      "2   Five  stars  for  the  quick  delivery.          0.0000          Positive   \n",
      "3  Good  quality,  but  could  be  cheaper.          0.2382    Mixed Positive   \n",
      "4   Average  experience,  nothing  special.         -0.3089    Mixed Negative   \n",
      "\n",
      "  SentimentBucket  \n",
      "0    -0.49 to 0.0  \n",
      "1     0.0 to 0.49  \n",
      "2     0.0 to 0.49  \n",
      "3     0.0 to 0.49  \n",
      "4    -0.49 to 0.0  \n"
     ]
    }
   ],
   "source": [
    "import pandas as pd\n",
    "import pyodbc\n",
    "import nltk\n",
    "from nltk.sentiment.vader import SentimentIntensityAnalyzer\n",
    "\n",
    "\n",
    "# Download the VADER lexicon for sentiment analysis if not already present.\n",
    "nltk.download('vader_lexicon')\n",
    "\n",
    "# Define a function to fetch data from a SQL database using a SQL query\n",
    "def fetch_data_from_sql():\n",
    "    # Define the connection string with parameters for the database connection\n",
    "    conn_str = (\n",
    "        \"Driver={SQL Server};\"  # Specify the driver for SQL Server\n",
    "        \"Server=DESKTOP-JNEF5AJ\\SQLEXPRESS;\"  # Specify your SQL Server instance\n",
    "        \"Database=PortfolioProject_MarketingAnalytics;\"  # Specify the database name\n",
    "        \"Trusted_Connection=yes;\"  # Use Windows Authentication for the connection\n",
    "    )\n",
    "    # Establish the connection to the database\n",
    "    conn = pyodbc.connect(conn_str)\n",
    "    \n",
    "    # Define the SQL query to fetch customer reviews data\n",
    "    query = \"SELECT ReviewID, CustomerID, ProductID, ReviewDate, Rating, ReviewText FROM customer_reviews\"\n",
    "    \n",
    "    # Execute the query and fetch the data into a DataFrame\n",
    "    df = pd.read_sql(query, conn)\n",
    "    \n",
    "    # Close the connection to free up resources\n",
    "    conn.close()\n",
    "    \n",
    "    # Return the fetched data as a DataFrame\n",
    "    return df\n",
    "\n",
    "# Fetch the customer reviews data from the SQL database\n",
    "customer_reviews_df = fetch_data_from_sql()\n",
    "\n",
    "# Initialize the VADER sentiment intensity analyzer for analyzing the sentiment of text data\n",
    "sia = SentimentIntensityAnalyzer()\n",
    "\n",
    "# Define a function to calculate sentiment scores using VADER\n",
    "def calculate_sentiment(review):\n",
    "    # Get the sentiment scores for the review text\n",
    "    sentiment = sia.polarity_scores(review)\n",
    "    # Return the compound score, which is a normalized score between -1 (most negative) and 1 (most positive)\n",
    "    return sentiment['compound']\n",
    "\n",
    "# Define a function to categorize sentiment using both the sentiment score and the review rating\n",
    "def categorize_sentiment(score, rating):\n",
    "    # Use both the text sentiment score and the numerical rating to determine sentiment category\n",
    "    if score > 0.05:  # Positive sentiment score\n",
    "        if rating >= 4:\n",
    "            return 'Positive'  # High rating and positive sentiment\n",
    "        elif rating == 3:\n",
    "            return 'Mixed Positive'  # Neutral rating but positive sentiment\n",
    "        else:\n",
    "            return 'Mixed Negative'  # Low rating but positive sentiment\n",
    "    elif score < -0.05:  # Negative sentiment score\n",
    "        if rating <= 2:\n",
    "            return 'Negative'  # Low rating and negative sentiment\n",
    "        elif rating == 3:\n",
    "            return 'Mixed Negative'  # Neutral rating but negative sentiment\n",
    "        else:\n",
    "            return 'Mixed Positive'  # High rating but negative sentiment\n",
    "    else:  # Neutral sentiment score\n",
    "        if rating >= 4:\n",
    "            return 'Positive'  # High rating with neutral sentiment\n",
    "        elif rating <= 2:\n",
    "            return 'Negative'  # Low rating with neutral sentiment\n",
    "        else:\n",
    "            return 'Neutral'  # Neutral rating and neutral sentiment\n",
    "\n",
    "# Define a function to bucket sentiment scores into text ranges\n",
    "def sentiment_bucket(score):\n",
    "    if score >= 0.5:\n",
    "        return '0.5 to 1.0'  # Strongly positive sentiment\n",
    "    elif 0.0 <= score < 0.5:\n",
    "        return '0.0 to 0.49'  # Mildly positive sentiment\n",
    "    elif -0.5 <= score < 0.0:\n",
    "        return '-0.49 to 0.0'  # Mildly negative sentiment\n",
    "    else:\n",
    "        return '-1.0 to -0.5'  # Strongly negative sentiment\n",
    "\n",
    "# Apply sentiment analysis to calculate sentiment scores for each review\n",
    "customer_reviews_df['SentimentScore'] = customer_reviews_df['ReviewText'].apply(calculate_sentiment)\n",
    "\n",
    "# Apply sentiment categorization using both text and rating\n",
    "customer_reviews_df['SentimentCategory'] = customer_reviews_df.apply(\n",
    "    lambda row: categorize_sentiment(row['SentimentScore'], row['Rating']), axis=1)\n",
    "\n",
    "# Apply sentiment bucketing to categorize scores into defined ranges\n",
    "customer_reviews_df['SentimentBucket'] = customer_reviews_df['SentimentScore'].apply(sentiment_bucket)\n",
    "\n",
    "# Display the first few rows of the DataFrame with sentiment scores, categories, and buckets\n",
    "print(customer_reviews_df.head())\n",
    "\n",
    "# Save the DataFrame with sentiment scores, categories, and buckets to a new CSV file\n",
    "customer_reviews_df.to_csv('customer_reviews_with_sentiment.csv', index=False)"
   ]
  }
 ],
 "metadata": {
  "kernelspec": {
   "display_name": "Python 3",
   "language": "python",
   "name": "python3"
  },
  "language_info": {
   "codemirror_mode": {
    "name": "ipython",
    "version": 3
   },
   "file_extension": ".py",
   "mimetype": "text/x-python",
   "name": "python",
   "nbconvert_exporter": "python",
   "pygments_lexer": "ipython3",
   "version": "3.12.5"
  }
 },
 "nbformat": 4,
 "nbformat_minor": 2
}
